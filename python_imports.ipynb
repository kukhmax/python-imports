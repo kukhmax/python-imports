{
 "cells": [
  {
   "cell_type": "markdown",
   "id": "serious-washer",
   "metadata": {
    "slideshow": {
     "slide_type": "-"
    }
   },
   "source": [
    "# Импорты в Python"
   ]
  },
  {
   "cell_type": "markdown",
   "id": "detailed-think",
   "metadata": {},
   "source": [
    "## Зачем нам вообще импорты?"
   ]
  },
  {
   "cell_type": "markdown",
   "id": "returning-fundamental",
   "metadata": {},
   "source": [
    "Можно же писать все в одном файле и не мучиться."
   ]
  },
  {
   "cell_type": "code",
   "execution_count": null,
   "id": "secondary-volunteer",
   "metadata": {},
   "outputs": [],
   "source": [
    "!cat demo/01-why/no_imports.py"
   ]
  },
  {
   "cell_type": "code",
   "execution_count": null,
   "id": "exterior-minister",
   "metadata": {},
   "outputs": [],
   "source": [
    "!cat demo/01-why/why_imports.txt"
   ]
  },
  {
   "cell_type": "markdown",
   "id": "altered-reply",
   "metadata": {},
   "source": [
    " ## Импорты из соседних файлов"
   ]
  },
  {
   "cell_type": "markdown",
   "id": "through-bridge",
   "metadata": {},
   "source": [
    "Самый простой способ импортирования это импорт из файла, который находится рядом с запускаемым файлом."
   ]
  },
  {
   "cell_type": "code",
   "execution_count": null,
   "id": "executed-marathon",
   "metadata": {},
   "outputs": [],
   "source": [
    "!cat demo/02-imports-from-files/main.py"
   ]
  },
  {
   "cell_type": "code",
   "execution_count": null,
   "id": "billion-negotiation",
   "metadata": {},
   "outputs": [],
   "source": [
    "!cat demo/02-imports-from-files/lib.py"
   ]
  },
  {
   "cell_type": "code",
   "execution_count": null,
   "id": "failing-allowance",
   "metadata": {},
   "outputs": [],
   "source": [
    "!python3 demo/02-imports-from-files/main.py"
   ]
  },
  {
   "cell_type": "markdown",
   "id": "cooked-alarm",
   "metadata": {},
   "source": [
    "## Интерпретация импортов и циклы"
   ]
  },
  {
   "cell_type": "code",
   "execution_count": null,
   "id": "injured-reaction",
   "metadata": {},
   "outputs": [],
   "source": [
    "!cat demo/03-cycles/lib.py"
   ]
  },
  {
   "cell_type": "code",
   "execution_count": null,
   "id": "alert-poker",
   "metadata": {},
   "outputs": [],
   "source": [
    "!cat demo/03-cycles/main.py"
   ]
  },
  {
   "cell_type": "code",
   "execution_count": null,
   "id": "strong-variety",
   "metadata": {},
   "outputs": [],
   "source": [
    "!python3 demo/03-cycles/main.py"
   ]
  },
  {
   "cell_type": "markdown",
   "id": "ordinary-miniature",
   "metadata": {},
   "source": [
    "### Как исправить?"
   ]
  },
  {
   "cell_type": "code",
   "execution_count": null,
   "id": "objective-distribution",
   "metadata": {},
   "outputs": [],
   "source": [
    "!cat demo/03-cycles/lib_fixed.py"
   ]
  },
  {
   "cell_type": "code",
   "execution_count": null,
   "id": "southern-ethics",
   "metadata": {},
   "outputs": [],
   "source": [
    "!cat demo/03-cycles/another_lib.py"
   ]
  },
  {
   "cell_type": "code",
   "execution_count": null,
   "id": "bulgarian-analyst",
   "metadata": {},
   "outputs": [],
   "source": [
    "!cat demo/03-cycles/main_fixed.py"
   ]
  },
  {
   "cell_type": "code",
   "execution_count": null,
   "id": "oriental-antibody",
   "metadata": {},
   "outputs": [],
   "source": [
    "!python3 demo/03-cycles/main_fixed.py"
   ]
  },
  {
   "cell_type": "markdown",
   "id": "simplified-membrane",
   "metadata": {},
   "source": [
    "### Интерпретация импортов"
   ]
  },
  {
   "cell_type": "code",
   "execution_count": null,
   "id": "tough-canal",
   "metadata": {},
   "outputs": [],
   "source": [
    "!cat demo/04-main/lib.py"
   ]
  },
  {
   "cell_type": "code",
   "execution_count": null,
   "id": "frozen-signal",
   "metadata": {},
   "outputs": [],
   "source": [
    "!cat demo/04-main/main.py"
   ]
  },
  {
   "cell_type": "code",
   "execution_count": null,
   "id": "unlike-skirt",
   "metadata": {},
   "outputs": [],
   "source": [
    "!python3 demo/04-main/main.py"
   ]
  },
  {
   "cell_type": "code",
   "execution_count": null,
   "id": "sporting-throw",
   "metadata": {
    "scrolled": true
   },
   "outputs": [],
   "source": [
    "!cat demo/04-main/name_guard.py"
   ]
  },
  {
   "cell_type": "markdown",
   "id": "virgin-hamburg",
   "metadata": {},
   "source": [
    "## Импорт из директорий, пакеты"
   ]
  },
  {
   "cell_type": "code",
   "execution_count": null,
   "id": "acoustic-present",
   "metadata": {},
   "outputs": [],
   "source": [
    "!tree demo/05-packages/"
   ]
  },
  {
   "cell_type": "code",
   "execution_count": null,
   "id": "tracked-alberta",
   "metadata": {},
   "outputs": [],
   "source": [
    "!cat demo/05-packages/main.py"
   ]
  },
  {
   "cell_type": "code",
   "execution_count": null,
   "id": "competitive-marker",
   "metadata": {},
   "outputs": [],
   "source": [
    "!cat demo/05-packages/foo/bar/buz.py"
   ]
  },
  {
   "cell_type": "code",
   "execution_count": null,
   "id": "acknowledged-concert",
   "metadata": {},
   "outputs": [],
   "source": [
    "!python3 demo/05-packages/main.py"
   ]
  },
  {
   "cell_type": "markdown",
   "id": "tracked-latino",
   "metadata": {},
   "source": [
    "## Стандартная библиотека"
   ]
  },
  {
   "cell_type": "code",
   "execution_count": null,
   "id": "impaired-lesson",
   "metadata": {},
   "outputs": [],
   "source": [
    "import json\n",
    "\n",
    "print(json)"
   ]
  },
  {
   "cell_type": "code",
   "execution_count": null,
   "id": "permanent-essex",
   "metadata": {
    "scrolled": true
   },
   "outputs": [],
   "source": [
    "!ls /usr/local/Cellar/python@3.9/3.9.1_7/Frameworks/Python.framework/Versions/3.9/lib/python3.9"
   ]
  },
  {
   "cell_type": "markdown",
   "id": "built-legislation",
   "metadata": {},
   "source": [
    "## Путь поиска пакетов"
   ]
  },
  {
   "cell_type": "code",
   "execution_count": null,
   "id": "double-madagascar",
   "metadata": {},
   "outputs": [],
   "source": [
    "!cat demo/06-syspath/main.py"
   ]
  },
  {
   "cell_type": "code",
   "execution_count": null,
   "id": "regional-warren",
   "metadata": {
    "scrolled": true
   },
   "outputs": [],
   "source": [
    "!python3 demo/06-syspath/main.py"
   ]
  },
  {
   "cell_type": "code",
   "execution_count": null,
   "id": "expensive-raleigh",
   "metadata": {},
   "outputs": [],
   "source": [
    "!echo $PYTHONPATH"
   ]
  },
  {
   "cell_type": "code",
   "execution_count": null,
   "id": "occupied-potter",
   "metadata": {
    "scrolled": true
   },
   "outputs": [],
   "source": [
    "!PYTHONPATH=/var/tmp python3 demo/06-syspath/main.py"
   ]
  },
  {
   "cell_type": "markdown",
   "id": "prepared-accountability",
   "metadata": {},
   "source": [
    "### Общая логика\n",
    "\n",
    "1. Директория запущенного файла.\n",
    "2. Переменная PYTHONPATH, если не пустая.\n",
    "3. lib, site-packages и прочие директории, зависящие от установки и настройки."
   ]
  },
  {
   "cell_type": "markdown",
   "id": "authorized-madness",
   "metadata": {},
   "source": [
    "### Конфликты имен"
   ]
  },
  {
   "cell_type": "code",
   "execution_count": null,
   "id": "alpha-breeding",
   "metadata": {},
   "outputs": [],
   "source": [
    "!cat demo/07-conflicts/brain_games.py"
   ]
  },
  {
   "cell_type": "code",
   "execution_count": null,
   "id": "agricultural-iceland",
   "metadata": {},
   "outputs": [],
   "source": [
    "!ls && tree brain_games"
   ]
  },
  {
   "cell_type": "code",
   "execution_count": null,
   "id": "seasonal-shirt",
   "metadata": {},
   "outputs": [],
   "source": [
    "!python3 demo/07-conflicts/brain_games.py"
   ]
  },
  {
   "cell_type": "markdown",
   "id": "affecting-guest",
   "metadata": {},
   "source": [
    "# Менеджеры зависимостей"
   ]
  },
  {
   "cell_type": "markdown",
   "id": "danish-strike",
   "metadata": {},
   "source": [
    "Зачем нам менеджеры зависимостей? У нас же уже есть импорты, что еще нужно для счастья?"
   ]
  },
  {
   "cell_type": "code",
   "execution_count": null,
   "id": "described-mystery",
   "metadata": {},
   "outputs": [],
   "source": [
    "!cat demo/08-deps/why-deps.txt"
   ]
  },
  {
   "cell_type": "markdown",
   "id": "increasing-arcade",
   "metadata": {},
   "source": [
    "## pip3\n",
    "\n",
    "Базовый способ упралвения зависимостями. Умеет:\n",
    "\n",
    "* Устанавливать пакеты из хранилищ пакетов, git репозиториев и т.д.\n",
    "* Собирать пакеты и публиковать их в хранилища пакетов."
   ]
  },
  {
   "cell_type": "markdown",
   "id": "traditional-township",
   "metadata": {},
   "source": [
    "## pypi\n",
    "\n",
    "https://pypi.org\n",
    "\n",
    "* Публичное хранилище пакетов для Python. По-умолчанию pip3 ищет пакеты здесь.\n",
    "* Кроме основного pypi есть тестовый https://test.pypi.org.\n",
    "* Компании часто делают внутренний pypi для обмена библиотеками между командами."
   ]
  },
  {
   "cell_type": "code",
   "execution_count": null,
   "id": "charming-facing",
   "metadata": {},
   "outputs": [],
   "source": [
    "!pip3 install cowsay"
   ]
  },
  {
   "cell_type": "code",
   "execution_count": null,
   "id": "conservative-lighter",
   "metadata": {},
   "outputs": [],
   "source": [
    "!cowsay i was installed with pip3 from pypi"
   ]
  },
  {
   "cell_type": "markdown",
   "id": "cross-dragon",
   "metadata": {},
   "source": [
    "### Декларирование зависимостей "
   ]
  },
  {
   "cell_type": "markdown",
   "id": "bibliographic-chemical",
   "metadata": {},
   "source": [
    "requirements.txt — распространненый способ декларирования зависимостей для не-библиотек."
   ]
  },
  {
   "cell_type": "code",
   "execution_count": null,
   "id": "complimentary-plymouth",
   "metadata": {},
   "outputs": [],
   "source": [
    "!cat demo/08-deps/requirements.txt"
   ]
  },
  {
   "cell_type": "code",
   "execution_count": null,
   "id": "periodic-shift",
   "metadata": {
    "scrolled": true
   },
   "outputs": [],
   "source": [
    "!pip3 install -r demo/08-deps/requirements.txt"
   ]
  },
  {
   "cell_type": "markdown",
   "id": "valuable-starter",
   "metadata": {},
   "source": [
    "### Создание пакетов "
   ]
  },
  {
   "cell_type": "code",
   "execution_count": null,
   "id": "broadband-clause",
   "metadata": {},
   "outputs": [],
   "source": [
    "!tree demo/09-package-demo/"
   ]
  },
  {
   "cell_type": "code",
   "execution_count": null,
   "id": "russian-medicaid",
   "metadata": {},
   "outputs": [],
   "source": [
    "cat demo/09-package-demo/setup.py"
   ]
  },
  {
   "cell_type": "code",
   "execution_count": null,
   "id": "quick-temple",
   "metadata": {},
   "outputs": [],
   "source": [
    "cat demo/09-package-demo/my_lib/__init__.py"
   ]
  },
  {
   "cell_type": "code",
   "execution_count": null,
   "id": "foster-advancement",
   "metadata": {},
   "outputs": [],
   "source": [
    "!pip3 install demo/09-package-demo/"
   ]
  },
  {
   "cell_type": "code",
   "execution_count": null,
   "id": "appropriate-stage",
   "metadata": {},
   "outputs": [],
   "source": [
    "import my_lib\n",
    "\n",
    "my_lib.my_func()"
   ]
  },
  {
   "cell_type": "markdown",
   "id": "honest-colors",
   "metadata": {},
   "source": [
    "## Конфликты зависимостей\n",
    "\n",
    "Пусть проекту А нужна библиотека lib версии 1, а проекту B библиотека lib версии 2, причем версии 1 и 2 несоместимы между собой. \n",
    "\n",
    "Что делать?"
   ]
  },
  {
   "cell_type": "code",
   "execution_count": null,
   "id": "seeing-viking",
   "metadata": {},
   "outputs": [],
   "source": [
    "!cat demo/10-deps-conflicts/deps-conflicts.txt"
   ]
  },
  {
   "cell_type": "markdown",
   "id": "prescription-albuquerque",
   "metadata": {},
   "source": [
    "## venv"
   ]
  },
  {
   "cell_type": "markdown",
   "id": "worth-quilt",
   "metadata": {},
   "source": [
    "`python3 -m venv /path/to/venv`"
   ]
  },
  {
   "cell_type": "code",
   "execution_count": null,
   "id": "hazardous-workplace",
   "metadata": {},
   "outputs": [],
   "source": [
    "!tree .venv"
   ]
  },
  {
   "cell_type": "code",
   "execution_count": null,
   "id": "comprehensive-cancellation",
   "metadata": {
    "scrolled": true
   },
   "outputs": [],
   "source": [
    "!cat .venv/bin/activate"
   ]
  },
  {
   "cell_type": "markdown",
   "id": "plastic-spice",
   "metadata": {},
   "source": [
    "```\n",
    "source venv/bin/activate\n",
    "\n",
    "# теперь python3 это интерпретатор из виртуального окружения\n",
    "\n",
    "deactivate\n",
    "\n",
    "# вернули как было\n",
    "```"
   ]
  },
  {
   "cell_type": "markdown",
   "id": "beginning-clearance",
   "metadata": {},
   "source": [
    "## poetry\n",
    "\n",
    "* Прозрачное управление venv.\n",
    "* Установка и объявление зависимостей, в том числе dev.\n",
    "* Сборка и публикация пакета."
   ]
  },
  {
   "cell_type": "markdown",
   "id": "spread-segment",
   "metadata": {},
   "source": [
    "## poetry init\n",
    "\n",
    "Создает проект и устанавливает зависимости"
   ]
  },
  {
   "cell_type": "code",
   "execution_count": null,
   "id": "certified-earth",
   "metadata": {},
   "outputs": [],
   "source": [
    "!cat pyproject.toml"
   ]
  },
  {
   "cell_type": "markdown",
   "id": "legal-polls",
   "metadata": {},
   "source": [
    "## poetry install\n",
    "\n",
    "* Создаст виртуальное окружение, если еще не создано\n",
    "* Установит в него все зависимости\n"
   ]
  },
  {
   "cell_type": "markdown",
   "id": "instructional-initial",
   "metadata": {},
   "source": [
    "## poetry run some_command\n",
    "\n",
    "Запустит произвольную команду с виртуальном окружении проекта\n",
    "\n",
    "```\n",
    "poetry run python3 some_file.py # запустит python3 из виртуального окружения\n",
    "python3 some_file # запустится системный python3\n",
    "```"
   ]
  },
  {
   "cell_type": "markdown",
   "id": "virtual-climb",
   "metadata": {},
   "source": [
    "## Проблема с brain_games"
   ]
  },
  {
   "cell_type": "code",
   "execution_count": null,
   "id": "answering-carry",
   "metadata": {},
   "outputs": [],
   "source": [
    "!pip3 install git+https://github.com/KMCH80/python-project-lvl1.git"
   ]
  },
  {
   "cell_type": "code",
   "execution_count": null,
   "id": "stable-ceiling",
   "metadata": {},
   "outputs": [],
   "source": [
    "!which brain-games"
   ]
  },
  {
   "cell_type": "code",
   "execution_count": null,
   "id": "happy-intake",
   "metadata": {},
   "outputs": [],
   "source": [
    "!cat .venv/bin/brain-games"
   ]
  }
 ],
 "metadata": {
  "kernelspec": {
   "display_name": "Python 3",
   "language": "python",
   "name": "python3"
  },
  "language_info": {
   "codemirror_mode": {
    "name": "ipython",
    "version": 3
   },
   "file_extension": ".py",
   "mimetype": "text/x-python",
   "name": "python",
   "nbconvert_exporter": "python",
   "pygments_lexer": "ipython3",
   "version": "3.9.1"
  }
 },
 "nbformat": 4,
 "nbformat_minor": 5
}
